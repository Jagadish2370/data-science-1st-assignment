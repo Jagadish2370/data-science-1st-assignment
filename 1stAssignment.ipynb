{
 "cells": [
  {
   "cell_type": "raw",
   "id": "cbbcd575-b1f7-4800-a631-5534ddee6fae",
   "metadata": {},
   "source": [
    "Q1. Explain when to use a for loop and a while loop:\n",
    "\n",
    "For Loop: Use a for loop when you know the number of iterations in advance or when you want to iterate over a sequence like lists, tuples, strings, etc. It's suitable for iterating through a predefined collection.\n",
    "\n",
    "While Loop: Use a while loop when you need to repeatedly execute a block of code while a certain condition is true. It's suitable when you're not sure how many iterations you'll need and want to continue until a specific condition is met."
   ]
  },
  {
   "cell_type": "code",
   "execution_count": null,
   "id": "d85d9a26-060b-42d4-9925-44b2c7710e03",
   "metadata": {},
   "outputs": [],
   "source": [
    "# Q2. Python program to print the sum and product of the first 10 natural numbers using for and while loop:\n",
    "# Using for loop\n",
    "sum_for = 0\n",
    "product_for = 1\n",
    "\n",
    "for i in range(1, 11):\n",
    "    sum_for += i\n",
    "    product_for *= i\n",
    "\n",
    "print(\"Sum using for loop:\", sum_for)\n",
    "print(\"Product using for loop:\", product_for)\n",
    "\n",
    "# Using while loop\n",
    "sum_while = 0\n",
    "product_while = 1\n",
    "counter = 1\n",
    "\n",
    "while counter <= 10:\n",
    "    sum_while += counter\n",
    "    product_while *= counter\n",
    "    counter += 1\n",
    "\n",
    "print(\"Sum using while loop:\", sum_while)\n",
    "print(\"Product using while loop:\", product_while)\n"
   ]
  },
  {
   "cell_type": "code",
   "execution_count": 3,
   "id": "bfec7b65-ca67-4c4f-b7d4-017b912f5cae",
   "metadata": {},
   "outputs": [
    {
     "name": "stdin",
     "output_type": "stream",
     "text": [
      "Enter the units of electricity consumed:  57\n"
     ]
    },
    {
     "name": "stdout",
     "output_type": "stream",
     "text": [
      "Total Electricity Bill: 256.5\n"
     ]
    }
   ],
   "source": [
    "# Q3. Python program to compute the electricity bill for a household:\n",
    "'''The per-unit charges in rupees are as follows: For the first 100 units, the user will be charged Rs. 4.5 per\n",
    "unit, for the next 100 units, the user will be charged Rs. 6 per unit, and for the next 100 units, the user will\n",
    "be charged Rs. 10 per unit, After 300 units and above the user will be charged Rs. 20 per unit.\n",
    "You are required to take the units of electricity consumed in a month from the user as input.'''\n",
    "\n",
    "units = float(input(\"Enter the units of electricity consumed: \"))\n",
    "\n",
    "if units <= 100:\n",
    "    total_bill = units * 4.5\n",
    "elif units <= 200:\n",
    "    total_bill = 100 * 4.5 + (units - 100) * 6\n",
    "elif units <= 300:\n",
    "    total_bill = 100 * 4.5 + 100 * 6 + (units - 200) * 10\n",
    "else:\n",
    "    total_bill = 100 * 4.5 + 100 * 6 + 100 * 10 + (units - 300) * 20\n",
    "\n",
    "print(\"Total Electricity Bill:\", total_bill)\n"
   ]
  },
  {
   "cell_type": "code",
   "execution_count": 4,
   "id": "8530b863-b337-4db3-b011-cbd4bb291853",
   "metadata": {},
   "outputs": [
    {
     "name": "stdout",
     "output_type": "stream",
     "text": [
      "Numbers whose cubes are divisible by 4 or 5: [2, 4, 5, 6, 8, 10, 12, 14, 15, 16, 18, 20, 22, 24, 25, 26, 28, 30, 32, 34, 35, 36, 38, 40, 42, 44, 45, 46, 48, 50, 52, 54, 55, 56, 58, 60, 62, 64, 65, 66, 68, 70, 72, 74, 75, 76, 78, 80, 82, 84, 85, 86, 88, 90, 92, 94, 95, 96, 98, 100]\n"
     ]
    }
   ],
   "source": [
    "# Q4. Create a list of numbers from 1 to 100. Use for loop and while loop to calculate the cube of each number and if the cube of that number is divisible by 4 or 5 then append that number in a list and print that list.\n",
    "cubes_divisible = []\n",
    "\n",
    "for num in range(1, 101):\n",
    "    cube = num ** 3\n",
    "    if cube % 4 == 0 or cube % 5 == 0:\n",
    "        cubes_divisible.append(num)\n",
    "\n",
    "print(\"Numbers whose cubes are divisible by 4 or 5:\", cubes_divisible)\n"
   ]
  },
  {
   "cell_type": "code",
   "execution_count": 5,
   "id": "7e337921-cdfa-4282-a9ea-a1ae979927c0",
   "metadata": {},
   "outputs": [
    {
     "name": "stdout",
     "output_type": "stream",
     "text": [
      "Number of vowels: 12\n"
     ]
    }
   ],
   "source": [
    "# Q5. Write a program to filter count vowels in the below-given string. string = \"I want to become a data scientist\"\n",
    "\n",
    "string = \"I want to become a data scientist\"\n",
    "vowels = \"aeiouAEIOU\"\n",
    "vowel_count = 0\n",
    "\n",
    "for char in string:\n",
    "    if char in vowels:\n",
    "        vowel_count += 1\n",
    "\n",
    "print(\"Number of vowels:\", vowel_count)\n"
   ]
  },
  {
   "cell_type": "code",
   "execution_count": null,
   "id": "0a9a9a7c-4ac9-42d6-ab55-6d3acf2675a3",
   "metadata": {},
   "outputs": [],
   "source": []
  }
 ],
 "metadata": {
  "kernelspec": {
   "display_name": "Python 3 (ipykernel)",
   "language": "python",
   "name": "python3"
  },
  "language_info": {
   "codemirror_mode": {
    "name": "ipython",
    "version": 3
   },
   "file_extension": ".py",
   "mimetype": "text/x-python",
   "name": "python",
   "nbconvert_exporter": "python",
   "pygments_lexer": "ipython3",
   "version": "3.10.8"
  }
 },
 "nbformat": 4,
 "nbformat_minor": 5
}
